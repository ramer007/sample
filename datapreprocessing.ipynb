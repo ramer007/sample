{
  "nbformat": 4,
  "nbformat_minor": 0,
  "metadata": {
    "colab": {
      "provenance": [],
      "authorship_tag": "ABX9TyM8IJPjnNwgBSBjnMgaccwU",
      "include_colab_link": true
    },
    "kernelspec": {
      "name": "python3",
      "display_name": "Python 3"
    },
    "language_info": {
      "name": "python"
    }
  },
  "cells": [
    {
      "cell_type": "markdown",
      "metadata": {
        "id": "view-in-github",
        "colab_type": "text"
      },
      "source": [
        "<a href=\"https://colab.research.google.com/github/ramer007/sample/blob/main/datapreprocessing.ipynb\" target=\"_parent\"><img src=\"https://colab.research.google.com/assets/colab-badge.svg\" alt=\"Open In Colab\"/></a>"
      ]
    },
    {
      "cell_type": "code",
      "execution_count": 6,
      "metadata": {
        "colab": {
          "base_uri": "https://localhost:8080/"
        },
        "id": "-d-B_p0tiV6f",
        "outputId": "bcbf6d88-96ce-424d-ffce-6cc3477aaae2"
      },
      "outputs": [
        {
          "output_type": "stream",
          "name": "stdout",
          "text": [
            "        one       two     three\n",
            "a  1.154761 -1.406980  0.917266\n",
            "b       NaN       NaN       NaN\n",
            "c  1.180788 -0.070286 -0.067373\n",
            "d       NaN       NaN       NaN\n",
            "e -0.205961 -0.338702 -1.387248\n",
            "f  0.483156  0.362619  1.654572\n",
            "g       NaN       NaN       NaN\n",
            "h -0.039178  1.239778  0.340991\n"
          ]
        }
      ],
      "source": [
        "import pandas as pd\n",
        "import numpy as np\n",
        "df = pd.DataFrame(np.random.randn(5, 3), index = ['a', 'c', 'e',\n",
        "'f', 'h'], columns = ['one','two', 'three'])\n",
        "df = df.reindex(['a', 'b', 'c', 'd', 'e', 'f', 'g', 'h'])\n",
        "print (df)"
      ]
    },
    {
      "cell_type": "code",
      "source": [
        "print (df['one'].isnull())\n"
      ],
      "metadata": {
        "colab": {
          "base_uri": "https://localhost:8080/"
        },
        "id": "3Iw21NHrkOfy",
        "outputId": "285959f7-1344-4391-da38-5edb7a3ac3ee"
      },
      "execution_count": 9,
      "outputs": [
        {
          "output_type": "stream",
          "name": "stdout",
          "text": [
            "a    False\n",
            "b     True\n",
            "c    False\n",
            "d     True\n",
            "e    False\n",
            "f    False\n",
            "g     True\n",
            "h    False\n",
            "Name: one, dtype: bool\n"
          ]
        }
      ]
    },
    {
      "cell_type": "code",
      "source": [
        "print (df['one'].notnull())"
      ],
      "metadata": {
        "colab": {
          "base_uri": "https://localhost:8080/"
        },
        "id": "QpGIWZCGkfwM",
        "outputId": "681296d8-2315-43e2-8285-02b1fa17be96"
      },
      "execution_count": 11,
      "outputs": [
        {
          "output_type": "stream",
          "name": "stdout",
          "text": [
            "a     True\n",
            "b    False\n",
            "c     True\n",
            "d    False\n",
            "e     True\n",
            "f     True\n",
            "g    False\n",
            "h     True\n",
            "Name: one, dtype: bool\n"
          ]
        }
      ]
    },
    {
      "cell_type": "code",
      "source": [
        "print (df['one'].sum())"
      ],
      "metadata": {
        "colab": {
          "base_uri": "https://localhost:8080/"
        },
        "id": "dUgqmyUvkv4X",
        "outputId": "812e5a5a-104c-4194-fd1a-6cbadf68360b"
      },
      "execution_count": 12,
      "outputs": [
        {
          "output_type": "stream",
          "name": "stdout",
          "text": [
            "0.9736757131590467\n"
          ]
        }
      ]
    },
    {
      "cell_type": "code",
      "source": [
        "print (df['one'].sum())"
      ],
      "metadata": {
        "colab": {
          "base_uri": "https://localhost:8080/"
        },
        "id": "bfP1_V_ulA1J",
        "outputId": "f0695ec5-17a3-4618-cf39-1d609e6fde78"
      },
      "execution_count": 17,
      "outputs": [
        {
          "output_type": "stream",
          "name": "stdout",
          "text": [
            "0\n"
          ]
        }
      ]
    },
    {
      "cell_type": "code",
      "source": [
        "import pandas as pd\n",
        "import numpy as np\n",
        "df = pd.DataFrame(np.random.randn(3, 3), index = ['a', 'c', 'e'],\n",
        "columns = ['one', 'two', 'three'])\n",
        "df = df.reindex(['a', 'b', 'c'])\n",
        "print (df)\n"
      ],
      "metadata": {
        "colab": {
          "base_uri": "https://localhost:8080/"
        },
        "id": "Mf6Mbdo8lpuF",
        "outputId": "6804fb1d-6efe-4f9f-9ad6-43b5ed90491d"
      },
      "execution_count": 18,
      "outputs": [
        {
          "output_type": "stream",
          "name": "stdout",
          "text": [
            "        one       two     three\n",
            "a  1.391025 -1.510154  0.507581\n",
            "b       NaN       NaN       NaN\n",
            "c  1.065318 -0.336589 -0.732870\n"
          ]
        }
      ]
    },
    {
      "cell_type": "code",
      "source": [
        "print (\"NaN replaced with '0':\")\n",
        "print (df.fillna(0))"
      ],
      "metadata": {
        "colab": {
          "base_uri": "https://localhost:8080/"
        },
        "id": "Wk593Qq2l3jV",
        "outputId": "0490c24c-92ff-46c3-9b25-8bf8190b0c0a"
      },
      "execution_count": 21,
      "outputs": [
        {
          "output_type": "stream",
          "name": "stdout",
          "text": [
            "NaN replaced with '0':\n",
            "        one       two     three\n",
            "a  1.391025 -1.510154  0.507581\n",
            "b  0.000000  0.000000  0.000000\n",
            "c  1.065318 -0.336589 -0.732870\n"
          ]
        }
      ]
    },
    {
      "cell_type": "code",
      "source": [
        "import pandas as pd\n",
        "import numpy as np\n",
        "df = pd.DataFrame(np.random.randn(5, 3), index = ['a', 'c', 'e',\n",
        "'f', 'h'], columns = ['one','two', 'three'])\n",
        "df = df.reindex(['a', 'b', 'c', 'd', 'e', 'f', 'g', 'h'])\n",
        "print (df)\n",
        "print(\"After pad............\")\n",
        "print (df.fillna(method = 'pad'))\n"
      ],
      "metadata": {
        "colab": {
          "base_uri": "https://localhost:8080/"
        },
        "id": "M8r4OeDZmRId",
        "outputId": "106d9420-a6d5-4a13-980a-c614ca38c08c"
      },
      "execution_count": 22,
      "outputs": [
        {
          "output_type": "stream",
          "name": "stdout",
          "text": [
            "        one       two     three\n",
            "a  0.785639 -1.133802 -2.513792\n",
            "b       NaN       NaN       NaN\n",
            "c  0.076394 -1.059790  0.854462\n",
            "d       NaN       NaN       NaN\n",
            "e -1.827276 -1.458604 -0.522915\n",
            "f -0.108830  0.532958 -1.524776\n",
            "g       NaN       NaN       NaN\n",
            "h -1.278982 -1.260262 -1.297233\n",
            "After pad............\n",
            "        one       two     three\n",
            "a  0.785639 -1.133802 -2.513792\n",
            "b  0.785639 -1.133802 -2.513792\n",
            "c  0.076394 -1.059790  0.854462\n",
            "d  0.076394 -1.059790  0.854462\n",
            "e -1.827276 -1.458604 -0.522915\n",
            "f -0.108830  0.532958 -1.524776\n",
            "g -0.108830  0.532958 -1.524776\n",
            "h -1.278982 -1.260262 -1.297233\n"
          ]
        },
        {
          "output_type": "stream",
          "name": "stderr",
          "text": [
            "<ipython-input-22-5a94bec195e9>:8: FutureWarning: DataFrame.fillna with 'method' is deprecated and will raise in a future version. Use obj.ffill() or obj.bfill() instead.\n",
            "  print (df.fillna(method = 'pad'))\n"
          ]
        }
      ]
    },
    {
      "cell_type": "code",
      "source": [
        "import pandas as pd\n",
        "import numpy as np\n",
        "df = pd.DataFrame(np.random.randn(5, 3), index = ['a', 'c', 'e',\n",
        "'f', 'h'], columns = ['one','two', 'three'])\n",
        "df = df.reindex(['a', 'b', 'c', 'd', 'e', 'f', 'g', 'h'])\n",
        "print (df)\n",
        "print(\"After fill  ............\")\n",
        "print (df.fillna(method = 'backfill'))"
      ],
      "metadata": {
        "colab": {
          "base_uri": "https://localhost:8080/"
        },
        "id": "aqHeqvOCr9K3",
        "outputId": "688b54b4-e9f5-4357-dbc3-f2427e902bac"
      },
      "execution_count": 23,
      "outputs": [
        {
          "output_type": "stream",
          "name": "stdout",
          "text": [
            "        one       two     three\n",
            "a -1.705818  0.816756 -0.642592\n",
            "b       NaN       NaN       NaN\n",
            "c  0.271312 -1.474891 -1.027964\n",
            "d       NaN       NaN       NaN\n",
            "e -0.041274  0.385433 -1.013824\n",
            "f  0.499639  0.583669  0.653279\n",
            "g       NaN       NaN       NaN\n",
            "h  0.284872  1.264683  0.058867\n",
            "After fill  ............\n",
            "        one       two     three\n",
            "a -1.705818  0.816756 -0.642592\n",
            "b  0.271312 -1.474891 -1.027964\n",
            "c  0.271312 -1.474891 -1.027964\n",
            "d -0.041274  0.385433 -1.013824\n",
            "e -0.041274  0.385433 -1.013824\n",
            "f  0.499639  0.583669  0.653279\n",
            "g  0.284872  1.264683  0.058867\n",
            "h  0.284872  1.264683  0.058867\n"
          ]
        },
        {
          "output_type": "stream",
          "name": "stderr",
          "text": [
            "<ipython-input-23-987674591a25>:8: FutureWarning: DataFrame.fillna with 'method' is deprecated and will raise in a future version. Use obj.ffill() or obj.bfill() instead.\n",
            "  print (df.fillna(method = 'backfill'))\n"
          ]
        }
      ]
    }
  ]
}